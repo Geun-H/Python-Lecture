{
 "cells": [
  {
   "cell_type": "code",
   "execution_count": 2,
   "metadata": {},
   "outputs": [
    {
     "name": "stdout",
     "output_type": "stream",
     "text": [
      "GATATTGTA\n"
     ]
    }
   ],
   "source": [
    "seq_1=\"ATGTTATAG\"\n",
    "rev=seq_1[::-1]\n",
    "print(rev)\n"
   ]
  },
  {
   "cell_type": "code",
   "execution_count": 4,
   "metadata": {},
   "outputs": [
    {
     "name": "stdout",
     "output_type": "stream",
     "text": [
      "2\n",
      "3\n"
     ]
    }
   ],
   "source": [
    "seq = \"AGTTTATAG\"\n",
    "for i in range(len(seq)):\n",
    "    if seq[i : i + 2] == \"TT\":\n",
    "        print(i)\n"
   ]
  },
  {
   "cell_type": "code",
   "execution_count": 5,
   "metadata": {},
   "outputs": [
    {
     "name": "stdout",
     "output_type": "stream",
     "text": [
      "AAACAGAT\n"
     ]
    }
   ],
   "source": [
    "seq = \"AA,AC,AG,AT\"\n",
    "l_seq = seq.split(\",\")\n",
    "print(''.join(l_seq))\n",
    "\n",
    "\n"
   ]
  },
  {
   "cell_type": "code",
   "execution_count": 6,
   "metadata": {},
   "outputs": [
    {
     "name": "stdout",
     "output_type": "stream",
     "text": [
      "4\n"
     ]
    }
   ],
   "source": [
    "l_seq = [\"AA\", \"AC\", \"AG\",\"AT\"]\n",
    "print(len(l_seq))"
   ]
  },
  {
   "cell_type": "code",
   "execution_count": 7,
   "metadata": {},
   "outputs": [
    {
     "name": "stdout",
     "output_type": "stream",
     "text": [
      "AA\n",
      "AC\n",
      "AG\n",
      "AT\n"
     ]
    }
   ],
   "source": [
    "l_seq = [\"AA\", \"AC\", \"AG\",\"AT\"]\n",
    "for i in l_seq:\n",
    "    print(i)"
   ]
  },
  {
   "cell_type": "code",
   "execution_count": 8,
   "metadata": {},
   "outputs": [
    {
     "name": "stdout",
     "output_type": "stream",
     "text": [
      "[2, 4, 6, 8]\n"
     ]
    }
   ],
   "source": [
    "data = [1,2,3,4]\n",
    "new_list=[x*2 for x in data]\n",
    "print(new_list)"
   ]
  },
  {
   "cell_type": "code",
   "execution_count": 13,
   "metadata": {},
   "outputs": [
    {
     "name": "stdout",
     "output_type": "stream",
     "text": [
      "[1, 4, 9, 16]\n",
      "['M1', 'M2', 'M3', 'M4']\n"
     ]
    }
   ],
   "source": [
    "data = [1,2,3,4]\n",
    "new_list1=[x**2 for x in data]\n",
    "new_list2=[\"M\" + str(x) for x in data]\n",
    "print(new_list1)\n",
    "print(new_list2)"
   ]
  },
  {
   "cell_type": "code",
   "execution_count": 19,
   "metadata": {},
   "outputs": [
    {
     "name": "stdout",
     "output_type": "stream",
     "text": [
      "['GGC', 'CCT']\n"
     ]
    }
   ],
   "source": [
    "codon = [\"ATG\",\"GGC\",\"TGA\",\"CCT\"]\n",
    "codon_new=[x for x in codon if \"A\" not in x]\n",
    "print (codon_new)"
   ]
  },
  {
   "cell_type": "code",
   "execution_count": 22,
   "metadata": {},
   "outputs": [
    {
     "name": "stdout",
     "output_type": "stream",
     "text": [
      "CA\n"
     ]
    }
   ],
   "source": [
    "l_data = [\"AA\",\"AC\",\"AG\",\"AT\"]\n",
    "s_2 = l_data[1]\n",
    "print(s_2[::-1])"
   ]
  },
  {
   "cell_type": "code",
   "execution_count": 26,
   "metadata": {},
   "outputs": [
    {
     "name": "stdout",
     "output_type": "stream",
     "text": [
      "CA\n"
     ]
    }
   ],
   "source": [
    "l_data = [\"AA\",\"AC\",\"AG\",\"AT\"]\n",
    "l_data[1] = \"CA\"\n",
    "print(l_data[1])"
   ]
  },
  {
   "cell_type": "code",
   "execution_count": 27,
   "metadata": {},
   "outputs": [
    {
     "name": "stdout",
     "output_type": "stream",
     "text": [
      "['AA', 'AC', 'AG', 'AT', 'CA']\n"
     ]
    }
   ],
   "source": [
    "l_data = [\"AA\",\"AC\",\"AG\",\"AT\"]\n",
    "l_data.append(\"CA\")\n",
    "print(l_data)"
   ]
  },
  {
   "cell_type": "code",
   "execution_count": 29,
   "metadata": {},
   "outputs": [
    {
     "name": "stdout",
     "output_type": "stream",
     "text": [
      "['A', 'AA', 'AAA', 'AC', 'AG', 'AT']\n"
     ]
    }
   ],
   "source": [
    "l_data = [\"AA\",\"AC\",\"AG\",\"AT\"]\n",
    "l_data.insert(0, \"A\")\n",
    "l_data.insert(2, \"AAA\")\n",
    "print(l_data)"
   ]
  },
  {
   "cell_type": "code",
   "execution_count": 35,
   "metadata": {},
   "outputs": [
    {
     "name": "stdout",
     "output_type": "stream",
     "text": [
      "AG\n",
      "['AA', 'AC', 'AT']\n"
     ]
    }
   ],
   "source": [
    "l_data = [\"AA\",\"AC\",\"AG\",\"AT\"]\n",
    "popped = l_data.pop(-2)\n",
    "print(popped)\n",
    "print(l_data)\n"
   ]
  },
  {
   "cell_type": "code",
   "execution_count": 36,
   "metadata": {},
   "outputs": [
    {
     "name": "stdout",
     "output_type": "stream",
     "text": [
      "['AT', 'AG', 'AC', 'AA']\n"
     ]
    }
   ],
   "source": [
    "l_data = [\"AA\",\"AC\",\"AG\",\"AT\"]\n",
    "print(l_data[::-1])"
   ]
  },
  {
   "cell_type": "code",
   "execution_count": 42,
   "metadata": {},
   "outputs": [
    {
     "name": "stdout",
     "output_type": "stream",
     "text": [
      "[1.92, 3.14, 7.44, 11.82] ['TGA', 'GGC', 'CCT', 'ATG'] [1.92, 3.14, 7.44, 11.82]\n"
     ]
    }
   ],
   "source": [
    "g = [3.14, 11.82, 7.44, 1.92]\n",
    "co = [\"ATG\",\"GGC\",\"TGA\",\"CCT\"]\n",
    "g.sort()\n",
    "co.sort(reverse=True)\n",
    "res = sorted(g) #새 리스트에 보낸다\n",
    "\n",
    "print(g, co, res)"
   ]
  },
  {
   "cell_type": "code",
   "execution_count": 46,
   "metadata": {},
   "outputs": [
    {
     "name": "stdout",
     "output_type": "stream",
     "text": [
      "[3.2, 5.4, 7.8, 11.8]\n",
      "[11.8, 7.8, 5.4, 3.2]\n"
     ]
    }
   ],
   "source": [
    "r_v = [7.8, -5.4, 3.2, -11.8]\n",
    "\n",
    "l_1 = [abs(x) for x in r_v]\n",
    "l_1.sort()\n",
    "print(l_1)\n",
    "l_1.sort(reverse=True)\n",
    "print(l_1)"
   ]
  },
  {
   "cell_type": "code",
   "execution_count": 47,
   "metadata": {},
   "outputs": [
    {
     "name": "stdout",
     "output_type": "stream",
     "text": [
      "[3.2, -5.4, 7.8, -11.8]\n",
      "[-11.8, 7.8, -5.4, 3.2]\n"
     ]
    }
   ],
   "source": [
    "r_v = [7.8, -5.4, 3.2, -11.8]\n",
    "\n",
    "r_v.sort(key=abs)\n",
    "print(r_v)\n",
    "r_v.sort(key=abs, reverse=True)\n",
    "print(r_v)\n"
   ]
  },
  {
   "cell_type": "code",
   "execution_count": 49,
   "metadata": {},
   "outputs": [
    {
     "name": "stdout",
     "output_type": "stream",
     "text": [
      "3 0\n"
     ]
    }
   ],
   "source": [
    "list = [3,1,1,2,0,0,2,3,3]\n",
    "print(max(list), min(list))\n"
   ]
  },
  {
   "cell_type": "code",
   "execution_count": 51,
   "metadata": {},
   "outputs": [
    {
     "name": "stdout",
     "output_type": "stream",
     "text": [
      "3 0\n"
     ]
    }
   ],
   "source": [
    "list = [3,1,1,2,0,0,2,3,3]\n",
    "maxx=list[0]\n",
    "minn=list[0]\n",
    "for i in list:\n",
    "    if maxx < i:\n",
    "        maxx = i\n",
    "    if minn > i:\n",
    "        minn = i\n",
    "print(maxx, minn)"
   ]
  },
  {
   "cell_type": "code",
   "execution_count": 52,
   "metadata": {},
   "outputs": [
    {
     "name": "stdout",
     "output_type": "stream",
     "text": [
      "[3.14, 11.82, 7.44, 1.92, 'ATG', 'GGC', 'TGA', 'CCT']\n"
     ]
    }
   ],
   "source": [
    "g = [3.14, 11.82, 7.44, 1.92]\n",
    "co = [\"ATG\",\"GGC\",\"TGA\",\"CCT\"]\n",
    "new = g + co\n",
    "print(new)"
   ]
  },
  {
   "cell_type": "code",
   "execution_count": 57,
   "metadata": {},
   "outputs": [
    {
     "name": "stdout",
     "output_type": "stream",
     "text": [
      "{0, 1, 2, 3}\n"
     ]
    }
   ],
   "source": [
    "list= [3,1,1,2,0,0,2,3,3]\n",
    "s_list = set(list)\n",
    "print(s_list)"
   ]
  },
  {
   "cell_type": "code",
   "execution_count": 58,
   "metadata": {},
   "outputs": [
    {
     "name": "stdout",
     "output_type": "stream",
     "text": [
      "[3, 1, 2, 0]\n"
     ]
    }
   ],
   "source": [
    "list= [3,1,1,2,0,0,2,3,3]\n",
    "n_list = []\n",
    "for i in list:\n",
    "    if i not in n_list:\n",
    "        n_list.append(i)\n",
    "print(n_list)\n"
   ]
  },
  {
   "cell_type": "code",
   "execution_count": 64,
   "metadata": {},
   "outputs": [
    {
     "name": "stdout",
     "output_type": "stream",
     "text": [
      "{'PTEN', 'RET', 'BRAF', 'KRAS', 'TRET', 'MEN1', 'P53', 'BRAf'}\n",
      "{'KRAS', 'MEN1'}\n",
      "{'RET', 'BRAF', 'BRAf'}\n",
      "{'TRET', 'PTEN', 'P53'}\n"
     ]
    }
   ],
   "source": [
    "g1 = [\"BRAf\",\"MEN1\",\"RET\",\"KRAS\",\"BRAF\"]\n",
    "g2 = [\"MEN1\",\"PTEN\",\"KRAS\",\"TRET\",\"P53\"]\n",
    "s_g1 = set(g1)\n",
    "s_g2 = set(g2)\n",
    "\n",
    "all=s_g1 | s_g2\n",
    "g_and = s_g1 & s_g2\n",
    "g_a = s_g1 - s_g2\n",
    "g_b = s_g2 - s_g1\n",
    "print(all, g_and, g_a, g_b, sep=\"\\n\")\n"
   ]
  },
  {
   "cell_type": "code",
   "execution_count": 65,
   "metadata": {},
   "outputs": [
    {
     "name": "stdout",
     "output_type": "stream",
     "text": [
      "{'A': 3, 'T': 4, 'G': 2}\n"
     ]
    }
   ],
   "source": [
    "seq = \"ATGTTATAG\"\n",
    "dic = {}\n",
    "for i in seq:\n",
    "    if i not in dic:\n",
    "        dic[i] = 0\n",
    "    dic[i] +=1\n",
    "\n",
    "print(dic)"
   ]
  },
  {
   "cell_type": "code",
   "execution_count": 67,
   "metadata": {},
   "outputs": [
    {
     "name": "stdout",
     "output_type": "stream",
     "text": [
      "defaultdict(<class 'int'>, {'A': 3, 'T': 4, 'G': 2})\n"
     ]
    }
   ],
   "source": [
    "from collections import defaultdict\n",
    "seq = \"ATGTTATAG\"\n",
    "cnt_data = defaultdict(int)\n",
    "for i in seq:\n",
    "    cnt_data[i] +=1\n",
    "print(cnt_data)"
   ]
  },
  {
   "cell_type": "code",
   "execution_count": 71,
   "metadata": {},
   "outputs": [
    {
     "name": "stdout",
     "output_type": "stream",
     "text": [
      "M 1\n",
      "F 15\n",
      "V 15\n",
      "L 13\n",
      "P 8\n",
      "S 11\n",
      "Q 5\n",
      "C 3\n",
      "N 11\n",
      "T 14\n",
      "R 5\n",
      "A 4\n",
      "Y 4\n",
      "G 6\n",
      "D 6\n",
      "K 5\n",
      "H 3\n",
      "W 2\n",
      "I 6\n",
      "E 2\n"
     ]
    }
   ],
   "source": [
    "seq = \"MFVFLVLLPLVSSQCVNLTTRTQLPPAYTNSFTRGVYYPDKVFRSSVLHSTQDLFLPFFSNVTWFHAIHVGTNGTKRFDNPVLPFNDGVYFASTEKSNIIRGWIFGTTLDSKTQSLLIVNNATNVVIKVCEFQFCNDPF\"\n",
    "dic = {}\n",
    "for i in seq:\n",
    "    if i not in dic:\n",
    "        dic[i] = 0\n",
    "    dic[i] +=1\n",
    "\n",
    "for k, v in dic.items():\n",
    "    print(k,v)\n"
   ]
  },
  {
   "cell_type": "code",
   "execution_count": 72,
   "metadata": {},
   "outputs": [
    {
     "name": "stdout",
     "output_type": "stream",
     "text": [
      "6\n"
     ]
    }
   ],
   "source": [
    "double = lambda a: a*2\n",
    "res = double(3)\n",
    "print(res)"
   ]
  },
  {
   "cell_type": "code",
   "execution_count": 75,
   "metadata": {},
   "outputs": [
    {
     "name": "stdout",
     "output_type": "stream",
     "text": [
      "False\n",
      "True\n"
     ]
    }
   ],
   "source": [
    "check = lambda x: x%2==0\n",
    "print(check(7))\n",
    "print(check(4))"
   ]
  },
  {
   "cell_type": "code",
   "execution_count": 80,
   "metadata": {},
   "outputs": [
    {
     "name": "stdout",
     "output_type": "stream",
     "text": [
      "F: 15\n",
      "V: 15\n",
      "T: 14\n",
      "L: 13\n",
      "S: 11\n",
      "N: 11\n",
      "P: 8\n",
      "G: 6\n",
      "D: 6\n",
      "I: 6\n",
      "Q: 5\n",
      "R: 5\n",
      "K: 5\n",
      "A: 4\n",
      "Y: 4\n",
      "C: 3\n",
      "H: 3\n",
      "W: 2\n",
      "E: 2\n",
      "M: 1\n"
     ]
    }
   ],
   "source": [
    "seq = \"MFVFLVLLPLVSSQCVNLTTRTQLPPAYTNSFTRGVYYPDKVFRSSVLHSTQDLFLPFFSNVTWFHAIHVGTNGTKRFDNPVLPFNDGVYFASTEKSNIIRGWIFGTTLDSKTQSLLIVNNATNVVIKVCEFQFCNDPF\"\n",
    "\n",
    "dic = {}\n",
    "for i in seq:\n",
    "    if i not in dic:\n",
    "        dic[i] = 0\n",
    "    dic[i] +=1\n",
    "s_dic = sorted(dic.items(), key= lambda x:x[1], reverse=True)\n",
    "\n",
    "for a, b in s_dic:\n",
    "    print(f\"{a}: {b}\")"
   ]
  },
  {
   "cell_type": "code",
   "execution_count": 81,
   "metadata": {},
   "outputs": [
    {
     "name": "stdout",
     "output_type": "stream",
     "text": [
      "<__main__.DNA object at 0x000001DB23FAA960>\n",
      "['__class__', '__delattr__', '__dict__', '__dir__', '__doc__', '__eq__', '__format__', '__ge__', '__getattribute__', '__getstate__', '__gt__', '__hash__', '__init__', '__init_subclass__', '__le__', '__lt__', '__module__', '__ne__', '__new__', '__reduce__', '__reduce_ex__', '__repr__', '__setattr__', '__sizeof__', '__str__', '__subclasshook__', '__weakref__']\n"
     ]
    }
   ],
   "source": [
    "class DNA():\n",
    "    pass\n",
    "\n",
    "dna = DNA()\n",
    "print(dna)\n",
    "print(dir(dna))"
   ]
  },
  {
   "cell_type": "code",
   "execution_count": 93,
   "metadata": {},
   "outputs": [
    {
     "name": "stdout",
     "output_type": "stream",
     "text": [
      "9\n",
      "GATATTGTA\n",
      "3\n",
      "sample_id: 123\n",
      "sequence: ATGTTATAG\n",
      "ATGTTATAGTTTT\n"
     ]
    }
   ],
   "source": [
    "class DNA():\n",
    "    def __init__(self, seq, sam_id):\n",
    "        self.seq: str = seq\n",
    "        self.sample_id: int = sam_id\n",
    "\n",
    "    def __str__(self):\n",
    "         return f\"sample_id: {self.sample_id}\\nsequence: {self.seq}\"\n",
    "\n",
    "    def __add__(self, other):\n",
    "        return self.seq + other.seq\n",
    "    \n",
    "    def get_length(self):\n",
    "        return len(self.seq)\n",
    "    \n",
    "    def get_reverse_seq(self):\n",
    "        return self.seq[::-1]\n",
    "    \n",
    "    def count_base(self, base):\n",
    "            return self.seq.count(base)\n",
    "    \n",
    "dna = DNA(\"ATGTTATAG\", 123)\n",
    "length = dna.get_length()\n",
    "print(length)\n",
    "rev_seq = dna.get_reverse_seq()\n",
    "print(rev_seq)\n",
    "print(dna.count_base(\"A\"))\n",
    "print(dna)\n",
    "dna2 = DNA(\"TTTT\", 200)\n",
    "print(dna + dna2)"
   ]
  },
  {
   "cell_type": "code",
   "execution_count": 94,
   "metadata": {},
   "outputs": [
    {
     "name": "stdout",
     "output_type": "stream",
     "text": [
      "human\n"
     ]
    }
   ],
   "source": [
    "dna.species = \"human\"\n",
    "print(dna.species)"
   ]
  },
  {
   "cell_type": "code",
   "execution_count": null,
   "metadata": {},
   "outputs": [],
   "source": []
  }
 ],
 "metadata": {
  "kernelspec": {
   "display_name": "base",
   "language": "python",
   "name": "python3"
  },
  "language_info": {
   "codemirror_mode": {
    "name": "ipython",
    "version": 3
   },
   "file_extension": ".py",
   "mimetype": "text/x-python",
   "name": "python",
   "nbconvert_exporter": "python",
   "pygments_lexer": "ipython3",
   "version": "3.12.3"
  }
 },
 "nbformat": 4,
 "nbformat_minor": 2
}
